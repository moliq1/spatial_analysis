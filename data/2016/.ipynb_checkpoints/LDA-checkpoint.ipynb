{
 "cells": [
  {
   "cell_type": "code",
   "execution_count": 1,
   "metadata": {
    "collapsed": true
   },
   "outputs": [],
   "source": [
    "import pandas as pd"
   ]
  },
  {
   "cell_type": "code",
   "execution_count": 2,
   "metadata": {
    "collapsed": true
   },
   "outputs": [],
   "source": [
    "data = pd.read_csv('2016_1.csv')"
   ]
  },
  {
   "cell_type": "code",
   "execution_count": 3,
   "metadata": {
    "collapsed": false
   },
   "outputs": [
    {
     "data": {
      "text/html": [
       "<div>\n",
       "<table border=\"1\" class=\"dataframe\">\n",
       "  <thead>\n",
       "    <tr style=\"text-align: right;\">\n",
       "      <th></th>\n",
       "      <th>RT</th>\n",
       "      <th>SR</th>\n",
       "      <th>A1</th>\n",
       "      <th>T1</th>\n",
       "      <th>AD</th>\n",
       "      <th>FD</th>\n",
       "      <th>ID</th>\n",
       "      <th>CL</th>\n",
       "      <th>AB</th>\n",
       "      <th>DB</th>\n",
       "      <th>LA</th>\n",
       "      <th>DS</th>\n",
       "    </tr>\n",
       "  </thead>\n",
       "  <tbody>\n",
       "    <tr>\n",
       "      <th>0</th>\n",
       "      <td>Patent</td>\n",
       "      <td>1</td>\n",
       "      <td>李玲;陈思繁;宋浩</td>\n",
       "      <td>一种含有石墨烯的共混膜及其制备方法</td>\n",
       "      <td>518060 广东省深圳市南山区南海大道3688号</td>\n",
       "      <td>2016-01-06</td>\n",
       "      <td>CN105218987A</td>\n",
       "      <td>发明专利</td>\n",
       "      <td>本发明适用于太阳能电池背膜的制备,提供了一种含有石墨烯的共混膜及其制备方法,所述共混膜为二氧...</td>\n",
       "      <td>中国专利</td>\n",
       "      <td>NaN</td>\n",
       "      <td>CNKI</td>\n",
       "    </tr>\n",
       "    <tr>\n",
       "      <th>1</th>\n",
       "      <td>Patent</td>\n",
       "      <td>1</td>\n",
       "      <td>党渭铭;顾晨海</td>\n",
       "      <td>一种化学法石墨烯生产系统</td>\n",
       "      <td>214142 江苏省无锡市国家高新技术产业开发区华友东路6号</td>\n",
       "      <td>2016-01-13</td>\n",
       "      <td>CN204958408U</td>\n",
       "      <td>实用新型</td>\n",
       "      <td>本实用新型公开了一种化学法石墨烯生产系统,具有反应釜,所述反应釜顶部具有数个加料口,其特征在...</td>\n",
       "      <td>中国专利</td>\n",
       "      <td>NaN</td>\n",
       "      <td>CNKI</td>\n",
       "    </tr>\n",
       "    <tr>\n",
       "      <th>2</th>\n",
       "      <td>Patent</td>\n",
       "      <td>1</td>\n",
       "      <td>蒋永华;栗建民;郝建东;张维</td>\n",
       "      <td>磺化石墨烯金属盐固态聚合物电解质及其制备方法和应用</td>\n",
       "      <td>215000 江苏省苏州市工业园区星湖街218号生物纳米园A4楼112室</td>\n",
       "      <td>2016-01-06</td>\n",
       "      <td>CN105218992A</td>\n",
       "      <td>发明专利</td>\n",
       "      <td>本发明公开了一种磺化石墨烯金属盐固态聚合物电解质及其制备方法和应用。该磺化石墨烯金属盐固态聚...</td>\n",
       "      <td>中国专利</td>\n",
       "      <td>NaN</td>\n",
       "      <td>CNKI</td>\n",
       "    </tr>\n",
       "    <tr>\n",
       "      <th>3</th>\n",
       "      <td>Patent</td>\n",
       "      <td>1</td>\n",
       "      <td>黄杰;沈政</td>\n",
       "      <td>一种改性石墨烯-聚乙烯醇复合薄膜的制备方法</td>\n",
       "      <td>400054 重庆市巴南区李家沱红光大道69号</td>\n",
       "      <td>2016-01-06</td>\n",
       "      <td>CN105218996A</td>\n",
       "      <td>发明专利</td>\n",
       "      <td>本发明公开了一种改性石墨烯-聚乙烯醇复合薄膜的制备方法,本发明的改性剂选用7-羟基-4-甲基...</td>\n",
       "      <td>中国专利</td>\n",
       "      <td>NaN</td>\n",
       "      <td>CNKI</td>\n",
       "    </tr>\n",
       "    <tr>\n",
       "      <th>4</th>\n",
       "      <td>Patent</td>\n",
       "      <td>1</td>\n",
       "      <td>张弛;王爱健;虞王;宋京宝;钱军;龙凌亮</td>\n",
       "      <td>卟啉-还原氧化石墨烯非线性光学材料及其制备方法</td>\n",
       "      <td>212013 江苏省镇江市京口区学府路301号</td>\n",
       "      <td>2016-01-06</td>\n",
       "      <td>CN105218556A</td>\n",
       "      <td>发明专利</td>\n",
       "      <td>本发明属于军工强激光防护材料领域,涉及卟啉-还原氧化石墨烯非线性光学材料及其制备方法,具体为...</td>\n",
       "      <td>中国专利</td>\n",
       "      <td>NaN</td>\n",
       "      <td>CNKI</td>\n",
       "    </tr>\n",
       "  </tbody>\n",
       "</table>\n",
       "</div>"
      ],
      "text/plain": [
       "       RT  SR                    A1                         T1  \\\n",
       "0  Patent   1             李玲;陈思繁;宋浩          一种含有石墨烯的共混膜及其制备方法   \n",
       "1  Patent   1               党渭铭;顾晨海               一种化学法石墨烯生产系统   \n",
       "2  Patent   1        蒋永华;栗建民;郝建东;张维  磺化石墨烯金属盐固态聚合物电解质及其制备方法和应用   \n",
       "3  Patent   1                 黄杰;沈政      一种改性石墨烯-聚乙烯醇复合薄膜的制备方法   \n",
       "4  Patent   1  张弛;王爱健;虞王;宋京宝;钱军;龙凌亮    卟啉-还原氧化石墨烯非线性光学材料及其制备方法   \n",
       "\n",
       "                                     AD          FD            ID    CL  \\\n",
       "0             518060 广东省深圳市南山区南海大道3688号  2016-01-06  CN105218987A  发明专利   \n",
       "1        214142 江苏省无锡市国家高新技术产业开发区华友东路6号  2016-01-13  CN204958408U  实用新型   \n",
       "2  215000 江苏省苏州市工业园区星湖街218号生物纳米园A4楼112室  2016-01-06  CN105218992A  发明专利   \n",
       "3               400054 重庆市巴南区李家沱红光大道69号  2016-01-06  CN105218996A  发明专利   \n",
       "4               212013 江苏省镇江市京口区学府路301号  2016-01-06  CN105218556A  发明专利   \n",
       "\n",
       "                                                  AB    DB  LA    DS  \n",
       "0  本发明适用于太阳能电池背膜的制备,提供了一种含有石墨烯的共混膜及其制备方法,所述共混膜为二氧...  中国专利 NaN  CNKI  \n",
       "1  本实用新型公开了一种化学法石墨烯生产系统,具有反应釜,所述反应釜顶部具有数个加料口,其特征在...  中国专利 NaN  CNKI  \n",
       "2  本发明公开了一种磺化石墨烯金属盐固态聚合物电解质及其制备方法和应用。该磺化石墨烯金属盐固态聚...  中国专利 NaN  CNKI  \n",
       "3  本发明公开了一种改性石墨烯-聚乙烯醇复合薄膜的制备方法,本发明的改性剂选用7-羟基-4-甲基...  中国专利 NaN  CNKI  \n",
       "4  本发明属于军工强激光防护材料领域,涉及卟啉-还原氧化石墨烯非线性光学材料及其制备方法,具体为...  中国专利 NaN  CNKI  "
      ]
     },
     "execution_count": 3,
     "metadata": {},
     "output_type": "execute_result"
    }
   ],
   "source": [
    "data.head()"
   ]
  },
  {
   "cell_type": "code",
   "execution_count": 1,
   "metadata": {
    "collapsed": true
   },
   "outputs": [],
   "source": [
    "import os \n",
    "import pandas as pd"
   ]
  },
  {
   "cell_type": "code",
   "execution_count": 3,
   "metadata": {
    "collapsed": false
   },
   "outputs": [
    {
     "data": {
      "text/plain": [
       "['FOSS4G NA 2015 - Spatial Data Analysis in Python',\n",
       " '2016_4.csv',\n",
       " 'Untitled.ipynb',\n",
       " '2016_5.csv',\n",
       " '2016_1.csv',\n",
       " 'stop_list.txt',\n",
       " 'jjb.shp',\n",
       " '2016_2.csv',\n",
       " 'FOSS4G NA 2015 - Spatial Data Analysis in Python.zip',\n",
       " 'LDA.ipynb',\n",
       " 'stop_list.txt~',\n",
       " 'province_count.csv',\n",
       " 'pro.txt~',\n",
       " '2016_3.csv',\n",
       " '\\xe6\\x97\\xa0\\xe6\\xa0\\x87\\xe9\\xa2\\x98\\xe6\\x96\\x87\\xe6\\xa1\\xa3~',\n",
       " 'e2016.csv',\n",
       " 'pro.txt',\n",
       " 'Untitled1.ipynb',\n",
       " '2016_6.csv',\n",
       " '.ipynb_checkpoints']"
      ]
     },
     "execution_count": 3,
     "metadata": {},
     "output_type": "execute_result"
    }
   ],
   "source": [
    "os.listdir('.')"
   ]
  },
  {
   "cell_type": "code",
   "execution_count": 5,
   "metadata": {
    "collapsed": true
   },
   "outputs": [],
   "source": [
    "string1 = 'adsd'"
   ]
  },
  {
   "cell_type": "code",
   "execution_count": 6,
   "metadata": {
    "collapsed": false
   },
   "outputs": [
    {
     "data": {
      "text/plain": [
       "True"
      ]
     },
     "execution_count": 6,
     "metadata": {},
     "output_type": "execute_result"
    }
   ],
   "source": [
    "string1.endswith('d')"
   ]
  },
  {
   "cell_type": "code",
   "execution_count": 9,
   "metadata": {
    "collapsed": false
   },
   "outputs": [],
   "source": [
    "files = [i for i in os.listdir('.') if i.startswith('2016')]"
   ]
  },
  {
   "cell_type": "code",
   "execution_count": 10,
   "metadata": {
    "collapsed": false
   },
   "outputs": [
    {
     "data": {
      "text/plain": [
       "['2016_4.csv',\n",
       " '2016_5.csv',\n",
       " '2016_1.csv',\n",
       " '2016_2.csv',\n",
       " '2016_3.csv',\n",
       " '2016_6.csv']"
      ]
     },
     "execution_count": 10,
     "metadata": {},
     "output_type": "execute_result"
    }
   ],
   "source": [
    "files"
   ]
  },
  {
   "cell_type": "code",
   "execution_count": 13,
   "metadata": {
    "collapsed": true
   },
   "outputs": [],
   "source": [
    "def get_text():\n",
    "    files = [i for i in os.listdir('.') if i.startswith('2016')]\n",
    "    for i in range(len(files)):\n",
    "        if i == 0:\n",
    "            data = pd.read_csv(files[i], usecols=['T1', 'AB'])\n",
    "        else:\n",
    "            text = pd.read_csv(files[i], usecols=['T1', 'AB'])\n",
    "            data = pd.concat([data, text], axis=0)\n",
    "        return data            "
   ]
  },
  {
   "cell_type": "code",
   "execution_count": 14,
   "metadata": {
    "collapsed": false
   },
   "outputs": [],
   "source": [
    "data = get_text()"
   ]
  },
  {
   "cell_type": "code",
   "execution_count": 57,
   "metadata": {
    "collapsed": false
   },
   "outputs": [
    {
     "data": {
      "text/plain": [
       "(500, 2)"
      ]
     },
     "execution_count": 57,
     "metadata": {},
     "output_type": "execute_result"
    }
   ],
   "source": [
    "data.shape"
   ]
  },
  {
   "cell_type": "code",
   "execution_count": 59,
   "metadata": {
    "collapsed": true
   },
   "outputs": [],
   "source": [
    "text = data.T1.add(','+data.AB, )"
   ]
  },
  {
   "cell_type": "code",
   "execution_count": 60,
   "metadata": {
    "collapsed": false
   },
   "outputs": [],
   "source": [
    "text = text.values"
   ]
  },
  {
   "cell_type": "code",
   "execution_count": 61,
   "metadata": {
    "collapsed": false
   },
   "outputs": [
    {
     "data": {
      "text/plain": [
       "(500,)"
      ]
     },
     "execution_count": 61,
     "metadata": {},
     "output_type": "execute_result"
    }
   ],
   "source": [
    "text.shape"
   ]
  },
  {
   "cell_type": "code",
   "execution_count": 62,
   "metadata": {
    "collapsed": true
   },
   "outputs": [],
   "source": [
    "def get_stop_words_set(file_name):  \n",
    "    with open(file_name,'r') as file:  \n",
    "        return set([line.strip() for line in file])  "
   ]
  },
  {
   "cell_type": "code",
   "execution_count": 63,
   "metadata": {
    "collapsed": true
   },
   "outputs": [],
   "source": [
    "stop_list = get_stop_words_set('stop_list.txt')"
   ]
  },
  {
   "cell_type": "code",
   "execution_count": 28,
   "metadata": {
    "collapsed": true
   },
   "outputs": [],
   "source": [
    "import jieba"
   ]
  },
  {
   "cell_type": "code",
   "execution_count": 64,
   "metadata": {
    "collapsed": true
   },
   "outputs": [],
   "source": [
    "def get_text(text, stop_list):\n",
    "    word_list = []\n",
    "    for i in range(text.shape[0]):\n",
    "        line = text[i]\n",
    "        tmp_list = list(jieba.cut(line.strip(), cut_all=False))\n",
    "        word_list.append([term for term in tmp_list if term.encode('utf-8') not in stop_list])\n",
    "    return word_list"
   ]
  },
  {
   "cell_type": "code",
   "execution_count": 65,
   "metadata": {
    "collapsed": false
   },
   "outputs": [],
   "source": [
    "word_list = get_text(text, stop_list)"
   ]
  },
  {
   "cell_type": "code",
   "execution_count": 66,
   "metadata": {
    "collapsed": false
   },
   "outputs": [
    {
     "data": {
      "text/plain": [
       "500"
      ]
     },
     "execution_count": 66,
     "metadata": {},
     "output_type": "execute_result"
    }
   ],
   "source": [
    "len(word_list)"
   ]
  },
  {
   "cell_type": "code",
   "execution_count": 67,
   "metadata": {
    "collapsed": false
   },
   "outputs": [
    {
     "name": "stdout",
     "output_type": "stream",
     "text": [
      "安装 碳晶 加热 吊顶 底板 壳体 安装 碳晶 加热 吊顶 底板 壳体 壳体 制成 方形 长方形 壳体 包括 底板 底板 四周 折边 折 边上 制有 压片 壳体 设置 碳晶 制成 加热 内芯 加热 内芯 底板 内壁 相 接触 压片 加热 内芯 压紧 固定 采用 碳晶 制成 发热 体 节能 环保 无污染 吊顶 室内 受热 均匀 温和 空气 干湿 影响 人体 皮肤 润滑 鼻腔 呼吸道 免受 伤害 感觉 舒适 壳体 设置 碳晶 制成 加热 内芯 加热 内芯 底板 内壁 相 接触 底板 托住 加热 内芯 压片 加热 内芯 压紧 固定 安装 拆卸\n"
     ]
    }
   ],
   "source": [
    "print ' '.join(word_list[0])"
   ]
  },
  {
   "cell_type": "code",
   "execution_count": 35,
   "metadata": {
    "collapsed": true
   },
   "outputs": [],
   "source": [
    "from gensim import corpora, models"
   ]
  },
  {
   "cell_type": "code",
   "execution_count": 68,
   "metadata": {
    "collapsed": true
   },
   "outputs": [],
   "source": [
    "word_dict = corpora.Dictionary(word_list)  #生成文档的词典，每个词与一个整型索引值对应  \n",
    "corpus_list = [word_dict.doc2bow(text) for text in word_list] #词频统计，转化成空间向量格式  "
   ]
  },
  {
   "cell_type": "code",
   "execution_count": 69,
   "metadata": {
    "collapsed": true
   },
   "outputs": [],
   "source": [
    "lda = models.ldamodel.LdaModel(corpus=corpus_list,id2word=word_dict,num_topics=5,alpha='auto')"
   ]
  },
  {
   "cell_type": "code",
   "execution_count": 70,
   "metadata": {
    "collapsed": false
   },
   "outputs": [],
   "source": [
    "topics = lda.show_topics(num_topics=5)"
   ]
  },
  {
   "cell_type": "code",
   "execution_count": 71,
   "metadata": {
    "collapsed": false
   },
   "outputs": [
    {
     "name": "stdout",
     "output_type": "stream",
     "text": [
      "0.032*\"氧化\" + 0.017*\"材料\" + 0.016*\"纳米\" + 0.009*\"复合材料\" + 0.007*\"电极\" + 0.007*\"复合\" + 0.007*\"溶液\" + 0.006*\"电池\" + 0.006*\"分散\" + 0.006*\"掺杂\"\n"
     ]
    }
   ],
   "source": [
    "print topics[0][1]"
   ]
  },
  {
   "cell_type": "code",
   "execution_count": 72,
   "metadata": {
    "collapsed": false
   },
   "outputs": [
    {
     "name": "stdout",
     "output_type": "stream",
     "text": [
      "0.032*\"氧化\" + 0.017*\"材料\" + 0.016*\"纳米\" + 0.009*\"复合材料\" + 0.007*\"电极\" + 0.007*\"复合\" + 0.007*\"溶液\" + 0.006*\"电池\" + 0.006*\"分散\" + 0.006*\"掺杂\"\n",
      "0.011*\"包括\" + 0.008*\"材料\" + 0.007*\"表面\" + 0.007*\"分散\" + 0.006*\"氧化\" + 0.006*\"掺杂\" + 0.006*\"步骤\" + 0.006*\"公开\" + 0.005*\"纳米\" + 0.005*\"氮\"\n",
      "0.012*\"复合材料\" + 0.012*\"材料\" + 0.009*\"层\" + 0.009*\"复合\" + 0.008*\"纳米\" + 0.008*\"份\" + 0.008*\"公开\" + 0.006*\"包括\" + 0.005*\"分散\" + 0.005*\"剥离\"\n",
      "0.015*\"复合材料\" + 0.013*\"氧化\" + 0.011*\"纳米\" + 0.009*\"剥离\" + 0.009*\"材料\" + 0.009*\"包括\" + 0.008*\"份\" + 0.008*\"步骤\" + 0.007*\"公开\" + 0.006*\"复合\"\n",
      "0.016*\"氧化\" + 0.011*\"材料\" + 0.009*\"纳米\" + 0.008*\"份\" + 0.008*\"薄膜\" + 0.008*\"三维\" + 0.007*\"复合\" + 0.007*\"结构\" + 0.006*\"混合\" + 0.006*\"分散\"\n"
     ]
    }
   ],
   "source": [
    "for i in range(len(topics)):\n",
    "    print topics[i][1]"
   ]
  },
  {
   "cell_type": "code",
   "execution_count": 47,
   "metadata": {
    "collapsed": true
   },
   "outputs": [],
   "source": [
    "output_file = './lda_output.txt'  \n",
    "with open(output_file,'w') as f:  \n",
    "    for pattern in lda.show_topics():  \n",
    "        print >> f, \"%s\" % str(pattern)"
   ]
  }
 ],
 "metadata": {
  "kernelspec": {
   "display_name": "Python 2",
   "language": "python",
   "name": "python2"
  },
  "language_info": {
   "codemirror_mode": {
    "name": "ipython",
    "version": 2
   },
   "file_extension": ".py",
   "mimetype": "text/x-python",
   "name": "python",
   "nbconvert_exporter": "python",
   "pygments_lexer": "ipython2",
   "version": "2.7.11"
  }
 },
 "nbformat": 4,
 "nbformat_minor": 0
}
